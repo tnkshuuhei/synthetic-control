{
 "cells": [
  {
   "cell_type": "markdown",
   "metadata": {},
   "source": [
    "# Synthetic Control Analysis\n",
    "このノートブックでは、Base チェーンのトランザクション数に対する合成制御分析を実行します。"
   ]
  },
  {
   "cell_type": "code",
   "execution_count": 28,
   "metadata": {},
   "outputs": [],
   "source": [
    "#必要なライブラリのインポート\n",
    "from datetime import datetime\n",
    "import json\n",
    "import pandas as pd\n",
    "import sys\n",
    "import os\n",
    "\n",
    "# scriptsディレクトリをパスに追加\\\n",
    "sys.path.append(os.path.join(os.getcwd(), '..'))\n",
    "from scripts.counterfactual import create_synth_control, SynthControlRequest\n",
    "from scripts.visualization import make_linechart"
   ]
  },
  {
   "cell_type": "markdown",
   "metadata": {},
   "source": [
    "## データの読み込み\n",
    "GrowthePieのデータを読み込みます。"
   ]
  },
  {
   "cell_type": "code",
   "execution_count": 29,
   "metadata": {},
   "outputs": [
    {
     "name": "stdout",
     "output_type": "stream",
     "text": [
      "            metric_key origin_key        date         value\n",
      "0       market_cap_usd   ethereum  2023-04-07  2.255496e+11\n",
      "1       market_cap_usd   ethereum  2023-04-08  2.248847e+11\n",
      "2       market_cap_usd   ethereum  2023-04-09  2.231692e+11\n",
      "3       market_cap_usd   ethereum  2023-04-10  2.242195e+11\n",
      "4       market_cap_usd   ethereum  2023-04-11  2.302017e+11\n",
      "...                ...        ...         ...           ...\n",
      "366121         txcount      rhino  2025-01-03  6.493000e+03\n",
      "366122       aa_last7d      rhino  2025-01-03  1.196500e+04\n",
      "366123         txcount   starknet  2025-01-03  5.897300e+04\n",
      "366124             daa   starknet  2025-01-03  5.873000e+03\n",
      "366125       aa_last7d   starknet  2025-01-03  2.665000e+04\n",
      "\n",
      "[366126 rows x 4 columns]\n"
     ]
    }
   ],
   "source": [
    "# データの読み込み\n",
    "with open('../data/_local/fundamentals_full.json', 'r') as f:\n",
    "\t\tgtp_data = json.load(f)\n",
    "df_gtp = pd.DataFrame(gtp_data)\n",
    "print(df_gtp)"
   ]
  },
  {
   "cell_type": "markdown",
   "metadata": {},
   "source": [
    "## 分析パラメータの設定\n",
    "Synthetic Control分析のパラメータを設定します。"
   ]
  },
  {
   "cell_type": "code",
   "execution_count": 33,
   "metadata": {},
   "outputs": [],
   "source": [
    "request = SynthControlRequest(\n",
    "    time_predictors_prior_start=datetime(2023, 1, 1),  # 期間を短く\n",
    "    time_predictors_prior_end=datetime(2023, 12, 31),\n",
    "    time_optimize_ssr_start=datetime(2023, 8, 1),\n",
    "    time_optimize_ssr_end=datetime(2023, 12, 31),\n",
    "    dependent='txcount',\n",
    "    treatment_identifier='base',\n",
    "    controls_identifier=[\n",
    "        'arbitrum', 'optimism', 'zksync_era',\n",
    "        'polygon_zkevm', 'scroll', 'mantle'\n",
    "    ],  # 制御群を減らす\n",
    "    predictors=[\n",
    "        'txcount',\n",
    "        'tvl',\n",
    "        'txcosts_median_eth'\n",
    "    ]  # 予測変数を減らす\n",
    ")"
   ]
  },
  {
   "cell_type": "markdown",
   "metadata": {},
   "source": [
    "## 分析の実行\n",
    "設定したパラメータを使用して分析を実行します。"
   ]
  },
  {
   "cell_type": "code",
   "execution_count": 34,
   "metadata": {},
   "outputs": [
    {
     "name": "stderr",
     "output_type": "stream",
     "text": [
      "/Users/tanakashuuhei/developer/synthetic_control_project/notebooks/../scripts/counterfactual.py:43: UserWarning: Boolean Series key will be reindexed to match DataFrame index.\n",
      "  treatment_values = treatment_data[train_mask][\n",
      "/Users/tanakashuuhei/developer/synthetic_control_project/notebooks/../scripts/counterfactual.py:43: UserWarning: Boolean Series key will be reindexed to match DataFrame index.\n",
      "  treatment_values = treatment_data[train_mask][\n",
      "/Users/tanakashuuhei/developer/synthetic_control_project/notebooks/../scripts/counterfactual.py:49: UserWarning: Boolean Series key will be reindexed to match DataFrame index.\n",
      "  control_values = control_data[train_mask][\n",
      "/Users/tanakashuuhei/developer/synthetic_control_project/notebooks/../scripts/counterfactual.py:49: UserWarning: Boolean Series key will be reindexed to match DataFrame index.\n",
      "  control_values = control_data[train_mask][\n",
      "/Users/tanakashuuhei/developer/synthetic_control_project/notebooks/../scripts/counterfactual.py:49: UserWarning: Boolean Series key will be reindexed to match DataFrame index.\n",
      "  control_values = control_data[train_mask][\n",
      "/Users/tanakashuuhei/developer/synthetic_control_project/notebooks/../scripts/counterfactual.py:49: UserWarning: Boolean Series key will be reindexed to match DataFrame index.\n",
      "  control_values = control_data[train_mask][\n",
      "/Users/tanakashuuhei/developer/synthetic_control_project/notebooks/../scripts/counterfactual.py:49: UserWarning: Boolean Series key will be reindexed to match DataFrame index.\n",
      "  control_values = control_data[train_mask][\n",
      "/Users/tanakashuuhei/developer/synthetic_control_project/notebooks/../scripts/counterfactual.py:49: UserWarning: Boolean Series key will be reindexed to match DataFrame index.\n",
      "  control_values = control_data[train_mask][\n",
      "/Users/tanakashuuhei/developer/synthetic_control_project/notebooks/../scripts/counterfactual.py:49: UserWarning: Boolean Series key will be reindexed to match DataFrame index.\n",
      "  control_values = control_data[train_mask][\n",
      "/Users/tanakashuuhei/developer/synthetic_control_project/notebooks/../scripts/counterfactual.py:49: UserWarning: Boolean Series key will be reindexed to match DataFrame index.\n",
      "  control_values = control_data[train_mask][\n",
      "/Users/tanakashuuhei/developer/synthetic_control_project/notebooks/../scripts/counterfactual.py:49: UserWarning: Boolean Series key will be reindexed to match DataFrame index.\n",
      "  control_values = control_data[train_mask][\n",
      "/Users/tanakashuuhei/developer/synthetic_control_project/notebooks/../scripts/counterfactual.py:49: UserWarning: Boolean Series key will be reindexed to match DataFrame index.\n",
      "  control_values = control_data[train_mask][\n",
      "/Users/tanakashuuhei/developer/synthetic_control_project/notebooks/../scripts/counterfactual.py:49: UserWarning: Boolean Series key will be reindexed to match DataFrame index.\n",
      "  control_values = control_data[train_mask][\n",
      "/Users/tanakashuuhei/developer/synthetic_control_project/notebooks/../scripts/counterfactual.py:49: UserWarning: Boolean Series key will be reindexed to match DataFrame index.\n",
      "  control_values = control_data[train_mask][\n",
      "/Users/tanakashuuhei/developer/synthetic_control_project/notebooks/../scripts/counterfactual.py:43: UserWarning: Boolean Series key will be reindexed to match DataFrame index.\n",
      "  treatment_values = treatment_data[train_mask][\n",
      "/Users/tanakashuuhei/developer/synthetic_control_project/notebooks/../scripts/counterfactual.py:43: UserWarning: Boolean Series key will be reindexed to match DataFrame index.\n",
      "  treatment_values = treatment_data[train_mask][\n",
      "/Users/tanakashuuhei/developer/synthetic_control_project/notebooks/../scripts/counterfactual.py:49: UserWarning: Boolean Series key will be reindexed to match DataFrame index.\n",
      "  control_values = control_data[train_mask][\n",
      "/Users/tanakashuuhei/developer/synthetic_control_project/notebooks/../scripts/counterfactual.py:49: UserWarning: Boolean Series key will be reindexed to match DataFrame index.\n",
      "  control_values = control_data[train_mask][\n",
      "/Users/tanakashuuhei/developer/synthetic_control_project/notebooks/../scripts/counterfactual.py:49: UserWarning: Boolean Series key will be reindexed to match DataFrame index.\n",
      "  control_values = control_data[train_mask][\n",
      "/Users/tanakashuuhei/developer/synthetic_control_project/notebooks/../scripts/counterfactual.py:49: UserWarning: Boolean Series key will be reindexed to match DataFrame index.\n",
      "  control_values = control_data[train_mask][\n",
      "/Users/tanakashuuhei/developer/synthetic_control_project/notebooks/../scripts/counterfactual.py:49: UserWarning: Boolean Series key will be reindexed to match DataFrame index.\n",
      "  control_values = control_data[train_mask][\n",
      "/Users/tanakashuuhei/developer/synthetic_control_project/notebooks/../scripts/counterfactual.py:49: UserWarning: Boolean Series key will be reindexed to match DataFrame index.\n",
      "  control_values = control_data[train_mask][\n",
      "/Users/tanakashuuhei/developer/synthetic_control_project/notebooks/../scripts/counterfactual.py:49: UserWarning: Boolean Series key will be reindexed to match DataFrame index.\n",
      "  control_values = control_data[train_mask][\n",
      "/Users/tanakashuuhei/developer/synthetic_control_project/notebooks/../scripts/counterfactual.py:49: UserWarning: Boolean Series key will be reindexed to match DataFrame index.\n",
      "  control_values = control_data[train_mask][\n",
      "/Users/tanakashuuhei/developer/synthetic_control_project/notebooks/../scripts/counterfactual.py:49: UserWarning: Boolean Series key will be reindexed to match DataFrame index.\n",
      "  control_values = control_data[train_mask][\n",
      "/Users/tanakashuuhei/developer/synthetic_control_project/notebooks/../scripts/counterfactual.py:49: UserWarning: Boolean Series key will be reindexed to match DataFrame index.\n",
      "  control_values = control_data[train_mask][\n",
      "/Users/tanakashuuhei/developer/synthetic_control_project/notebooks/../scripts/counterfactual.py:49: UserWarning: Boolean Series key will be reindexed to match DataFrame index.\n",
      "  control_values = control_data[train_mask][\n",
      "/Users/tanakashuuhei/developer/synthetic_control_project/notebooks/../scripts/counterfactual.py:49: UserWarning: Boolean Series key will be reindexed to match DataFrame index.\n",
      "  control_values = control_data[train_mask][\n",
      "/Users/tanakashuuhei/developer/synthetic_control_project/notebooks/../scripts/counterfactual.py:43: UserWarning: Boolean Series key will be reindexed to match DataFrame index.\n",
      "  treatment_values = treatment_data[train_mask][\n",
      "/Users/tanakashuuhei/developer/synthetic_control_project/notebooks/../scripts/counterfactual.py:43: UserWarning: Boolean Series key will be reindexed to match DataFrame index.\n",
      "  treatment_values = treatment_data[train_mask][\n",
      "/Users/tanakashuuhei/developer/synthetic_control_project/notebooks/../scripts/counterfactual.py:49: UserWarning: Boolean Series key will be reindexed to match DataFrame index.\n",
      "  control_values = control_data[train_mask][\n",
      "/Users/tanakashuuhei/developer/synthetic_control_project/notebooks/../scripts/counterfactual.py:49: UserWarning: Boolean Series key will be reindexed to match DataFrame index.\n",
      "  control_values = control_data[train_mask][\n",
      "/Users/tanakashuuhei/developer/synthetic_control_project/notebooks/../scripts/counterfactual.py:49: UserWarning: Boolean Series key will be reindexed to match DataFrame index.\n",
      "  control_values = control_data[train_mask][\n",
      "/Users/tanakashuuhei/developer/synthetic_control_project/notebooks/../scripts/counterfactual.py:49: UserWarning: Boolean Series key will be reindexed to match DataFrame index.\n",
      "  control_values = control_data[train_mask][\n",
      "/Users/tanakashuuhei/developer/synthetic_control_project/notebooks/../scripts/counterfactual.py:49: UserWarning: Boolean Series key will be reindexed to match DataFrame index.\n",
      "  control_values = control_data[train_mask][\n",
      "/Users/tanakashuuhei/developer/synthetic_control_project/notebooks/../scripts/counterfactual.py:49: UserWarning: Boolean Series key will be reindexed to match DataFrame index.\n",
      "  control_values = control_data[train_mask][\n",
      "/Users/tanakashuuhei/developer/synthetic_control_project/notebooks/../scripts/counterfactual.py:49: UserWarning: Boolean Series key will be reindexed to match DataFrame index.\n",
      "  control_values = control_data[train_mask][\n",
      "/Users/tanakashuuhei/developer/synthetic_control_project/notebooks/../scripts/counterfactual.py:49: UserWarning: Boolean Series key will be reindexed to match DataFrame index.\n",
      "  control_values = control_data[train_mask][\n",
      "/Users/tanakashuuhei/developer/synthetic_control_project/notebooks/../scripts/counterfactual.py:49: UserWarning: Boolean Series key will be reindexed to match DataFrame index.\n",
      "  control_values = control_data[train_mask][\n",
      "/Users/tanakashuuhei/developer/synthetic_control_project/notebooks/../scripts/counterfactual.py:49: UserWarning: Boolean Series key will be reindexed to match DataFrame index.\n",
      "  control_values = control_data[train_mask][\n",
      "/Users/tanakashuuhei/developer/synthetic_control_project/notebooks/../scripts/counterfactual.py:49: UserWarning: Boolean Series key will be reindexed to match DataFrame index.\n",
      "  control_values = control_data[train_mask][\n",
      "/Users/tanakashuuhei/developer/synthetic_control_project/notebooks/../scripts/counterfactual.py:49: UserWarning: Boolean Series key will be reindexed to match DataFrame index.\n",
      "  control_values = control_data[train_mask][\n"
     ]
    },
    {
     "ename": "ValueError",
     "evalue": "setting an array element with a sequence. The requested array has an inhomogeneous shape after 1 dimensions. The detected shape was (18,) + inhomogeneous part.",
     "output_type": "error",
     "traceback": [
      "\u001b[0;31m---------------------------------------------------------------------------\u001b[0m",
      "\u001b[0;31mValueError\u001b[0m                                Traceback (most recent call last)",
      "Cell \u001b[0;32mIn[34], line 2\u001b[0m\n\u001b[1;32m      1\u001b[0m \u001b[38;5;66;03m# 分析の実行\u001b[39;00m\n\u001b[0;32m----> 2\u001b[0m response \u001b[38;5;241m=\u001b[39m \u001b[43mcreate_synth_control\u001b[49m\u001b[43m(\u001b[49m\u001b[43mdf_gtp\u001b[49m\u001b[43m,\u001b[49m\u001b[43m \u001b[49m\u001b[43mrequest\u001b[49m\u001b[43m)\u001b[49m\n\u001b[1;32m      4\u001b[0m \u001b[38;5;66;03m# 結果の確認\u001b[39;00m\n\u001b[1;32m      5\u001b[0m \u001b[38;5;28mprint\u001b[39m(\u001b[38;5;124m\"\u001b[39m\u001b[38;5;124mControl weights:\u001b[39m\u001b[38;5;124m\"\u001b[39m)\n",
      "File \u001b[0;32m~/developer/synthetic_control_project/notebooks/../scripts/counterfactual.py:55\u001b[0m, in \u001b[0;36mcreate_synth_control\u001b[0;34m(df, request)\u001b[0m\n\u001b[1;32m     53\u001b[0m control_features \u001b[38;5;241m=\u001b[39m []\n\u001b[1;32m     54\u001b[0m \u001b[38;5;28;01mfor\u001b[39;00m predictor \u001b[38;5;129;01min\u001b[39;00m request\u001b[38;5;241m.\u001b[39mpredictors:\n\u001b[0;32m---> 55\u001b[0m     predictor_values \u001b[38;5;241m=\u001b[39m df[\n\u001b[1;32m     56\u001b[0m         (df[\u001b[38;5;124m'\u001b[39m\u001b[38;5;124mmetric_key\u001b[39m\u001b[38;5;124m'\u001b[39m] \u001b[38;5;241m==\u001b[39m predictor) \u001b[38;5;241m&\u001b[39m \n\u001b[1;32m     57\u001b[0m         (df[\u001b[38;5;124m'\u001b[39m\u001b[38;5;124morigin_key\u001b[39m\u001b[38;5;124m'\u001b[39m] \u001b[38;5;241m==\u001b[39m control) \u001b[38;5;241m&\u001b[39m\n\u001b[1;32m     58\u001b[0m         train_mask\n\u001b[1;32m     59\u001b[0m     ][\u001b[38;5;124m'\u001b[39m\u001b[38;5;124mvalue\u001b[39m\u001b[38;5;124m'\u001b[39m]\u001b[38;5;241m.\u001b[39mvalues\n\u001b[1;32m     61\u001b[0m     \u001b[38;5;28;01mif\u001b[39;00m \u001b[38;5;28mlen\u001b[39m(predictor_values) \u001b[38;5;241m>\u001b[39m \u001b[38;5;241m0\u001b[39m:\n\u001b[1;32m     62\u001b[0m         control_features\u001b[38;5;241m.\u001b[39mappend(predictor_values)\n",
      "\u001b[0;31mValueError\u001b[0m: setting an array element with a sequence. The requested array has an inhomogeneous shape after 1 dimensions. The detected shape was (18,) + inhomogeneous part."
     ]
    }
   ],
   "source": [
    "# 分析の実行\n",
    "response = create_synth_control(df_gtp, request)\n",
    "\n",
    "# 結果の確認\n",
    "print(\"Control weights:\")\n",
    "print(json.dumps(response.weights, indent=2))"
   ]
  },
  {
   "cell_type": "markdown",
   "metadata": {},
   "source": [
    "## 結果の可視化\n",
    "分析結果をグラフで表示します。"
   ]
  },
  {
   "cell_type": "code",
   "execution_count": 26,
   "metadata": {},
   "outputs": [
    {
     "ename": "NameError",
     "evalue": "name 'response' is not defined",
     "output_type": "error",
     "traceback": [
      "\u001b[0;31m---------------------------------------------------------------------------\u001b[0m",
      "\u001b[0;31mNameError\u001b[0m                                 Traceback (most recent call last)",
      "Cell \u001b[0;32mIn[26], line 2\u001b[0m\n\u001b[1;32m      1\u001b[0m \u001b[38;5;66;03m# データの可視化\u001b[39;00m\n\u001b[0;32m----> 2\u001b[0m df \u001b[38;5;241m=\u001b[39m pd\u001b[38;5;241m.\u001b[39mDataFrame(\u001b[43mresponse\u001b[49m\u001b[38;5;241m.\u001b[39mdata)\u001b[38;5;241m.\u001b[39mmelt(id_vars\u001b[38;5;241m=\u001b[39m\u001b[38;5;124m'\u001b[39m\u001b[38;5;124mdate\u001b[39m\u001b[38;5;124m'\u001b[39m, var_name\u001b[38;5;241m=\u001b[39m\u001b[38;5;124m'\u001b[39m\u001b[38;5;124mcohort\u001b[39m\u001b[38;5;124m'\u001b[39m)\n\u001b[1;32m      3\u001b[0m fig \u001b[38;5;241m=\u001b[39m make_linechart(\n\u001b[1;32m      4\u001b[0m df\u001b[38;5;241m=\u001b[39mdf[df[\u001b[38;5;124m'\u001b[39m\u001b[38;5;124mdate\u001b[39m\u001b[38;5;124m'\u001b[39m]\u001b[38;5;241m>\u001b[39m\u001b[38;5;124m'\u001b[39m\u001b[38;5;124m2023-08-01\u001b[39m\u001b[38;5;124m'\u001b[39m],\n\u001b[1;32m      5\u001b[0m     title\u001b[38;5;241m=\u001b[39m\u001b[38;5;124m\"\u001b[39m\u001b[38;5;124mTransactions on Base vs Ethereum and other L2s\u001b[39m\u001b[38;5;124m\"\u001b[39m,\n\u001b[0;32m   (...)\u001b[0m\n\u001b[1;32m      9\u001b[0m     ]\n\u001b[1;32m     10\u001b[0m     )\n\u001b[1;32m     11\u001b[0m fig\u001b[38;5;241m.\u001b[39mshow()\n",
      "\u001b[0;31mNameError\u001b[0m: name 'response' is not defined"
     ]
    }
   ],
   "source": [
    "# データの可視化\n",
    "df = pd.DataFrame(response.data).melt(id_vars='date', var_name='cohort')\n",
    "fig = make_linechart(\n",
    "df=df[df['date']>'2023-08-01'],\n",
    "    title=\"Transactions on Base vs Ethereum and other L2s\",\n",
    "    treatment_label=\"Treatment (Base)\",\n",
    "    events=[\n",
    "    {'date': '2024-03-13', 'text': 'Dencun upgrade'},\n",
    "    ]\n",
    "    )\n",
    "fig.show()"
   ]
  }
 ],
 "metadata": {
  "kernelspec": {
   "display_name": "synthetic_control_project-bu6yvxRJ",
   "language": "python",
   "name": "python3"
  },
  "language_info": {
   "codemirror_mode": {
    "name": "ipython",
    "version": 3
   },
   "file_extension": ".py",
   "mimetype": "text/x-python",
   "name": "python",
   "nbconvert_exporter": "python",
   "pygments_lexer": "ipython3",
   "version": "3.11.3"
  }
 },
 "nbformat": 4,
 "nbformat_minor": 2
}
